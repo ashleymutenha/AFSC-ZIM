{
  "nbformat": 4,
  "nbformat_minor": 0,
  "metadata": {
    "colab": {
      "name": "Untitled0.ipynb",
      "provenance": [],
      "collapsed_sections": [],
      "authorship_tag": "ABX9TyNLg0biCYsRR6cx5R20wV2R",
      "include_colab_link": true
    },
    "kernelspec": {
      "name": "python3",
      "display_name": "Python 3"
    }
  },
  "cells": [
    {
      "cell_type": "markdown",
      "metadata": {
        "id": "view-in-github",
        "colab_type": "text"
      },
      "source": [
        "<a href=\"https://colab.research.google.com/github/Nhetz/AFSC-ZIM/blob/master/Untitled0.ipynb\" target=\"_parent\"><img src=\"https://colab.research.google.com/assets/colab-badge.svg\" alt=\"Open In Colab\"/></a>"
      ]
    },
    {
      "cell_type": "code",
      "metadata": {
        "id": "1Dwo-dajpJ3D"
      },
      "source": [
        "import pandas as pd\r\n",
        "from bs4 import BeautifulSoup\r\n",
        "import requests"
      ],
      "execution_count": 9,
      "outputs": []
    },
    {
      "cell_type": "code",
      "metadata": {
        "id": "t-8iOfcCpblm"
      },
      "source": [
        "url = \"https://www.property.co.zw/houses-for-sale\"\r\n",
        "page = requests.get(url)"
      ],
      "execution_count": 10,
      "outputs": []
    },
    {
      "cell_type": "code",
      "metadata": {
        "id": "56vr9LfaptFc"
      },
      "source": [
        "soup  = BeautifulSoup(page.content,'html.parser')\r\n",
        "result= soup.findAll(class_ =\"page-link\")"
      ],
      "execution_count": 11,
      "outputs": []
    },
    {
      "cell_type": "code",
      "metadata": {
        "id": "ZH-Bn4B9p5kt"
      },
      "source": [
        "links = []\r\n",
        "for i in result:\r\n",
        "    links.append(i.get(\"href\"))\r\n",
        "links.remove(None)"
      ],
      "execution_count": 12,
      "outputs": []
    },
    {
      "cell_type": "code",
      "metadata": {
        "id": "CJrehcuHqL-v"
      },
      "source": [
        "number =[]\r\n",
        "for i in links:\r\n",
        "  y=(''.join([n for n in i if n.isdigit()]))\r\n",
        "  number.append(int(y))\r\n",
        "maxi =(max(number)) \r\n",
        "r =0\r\n",
        "Location =[]\r\n",
        "Hsize =[]\r\n",
        "TArea =[]\r\n",
        "Bths =[]\r\n",
        "Bed =[]\r\n",
        "Hprice =[]\r\n",
        "Garage =[]\r\n",
        "while r!=(5):\r\n",
        "    url = links[0][:-1]+str(r)\r\n",
        "    r =r+1\r\n",
        "    url1 = requests.get(url)\r\n",
        "    sp  = BeautifulSoup(url1.content,'html.parser')\r\n",
        "    city =sp.find(class_ =\"w-100 mt-2 mb-2 result-card-container\")\r\n",
        "    houses= (city.find_all(class_ =\"item-body table-cell\" ))\r\n",
        "    sizes =[]\r\n",
        "    location =[]\r\n",
        "    Bedrooms =[]\r\n",
        "    Stand_size =[]\r\n",
        "    House_price =[]\r\n",
        "    Baths =[]\r\n",
        "    phonenumber =[]\r\n",
        "    carport =[]\r\n",
        "    for i in houses:\r\n",
        "        try:\r\n",
        "            house_size =i.find(class_ =\"h-building\").get_text(strip =True)\r\n",
        "            sizes.append(house_size)\r\n",
        "        \r\n",
        "        \r\n",
        "            loc =i.find(class_ =\"property-location overflow-ellipse-mobile\").get_text(strip =True)\r\n",
        "            location.append(loc)\r\n",
        "        \r\n",
        "            bed =i.find(class_ =\"h-beds\").get_text(strip =True)\r\n",
        "            Bedrooms.append(bed)\r\n",
        "        \r\n",
        "            land =i.find(class_ =\"h-area\").get_text(strip =True)\r\n",
        "            Stand_size.append(land)\r\n",
        "        \r\n",
        "            price =i.find(class_ =\"info-row price\").get_text(strip =True)\r\n",
        "            House_price.append(price)\r\n",
        "        \r\n",
        "            baths =i.find(class_ =\"h-baths\").get_text(strip =True)\r\n",
        "            Baths.append(baths)\r\n",
        "        \r\n",
        "            phone =  i.find(class_ =\"listing-open-phone-modal\").get_text(strip =True)\r\n",
        "            phonenumber.append(phone)\r\n",
        "        \r\n",
        "            garage = i.find(class_=\"h-garage\")\r\n",
        "            car = garage.find(class_ = \"fa fa car\").get_text(strip =True)\r\n",
        "            carport.append(car)\r\n",
        "        except:\r\n",
        "            pass\r\n",
        "        \r\n",
        "        Maxi =max(len(sizes),len(Bedrooms),len(location),len(Stand_size),len(Baths),len(House_price))\r\n",
        "        if len(location)<Maxi:\r\n",
        "            while len(location)<Maxi:\r\n",
        "                location.append('')\r\n",
        "        if len(Baths)<Maxi:\r\n",
        "            while len(Baths)<Maxi:\r\n",
        "                Baths.append('')\r\n",
        "        if len(sizes)<Maxi:\r\n",
        "            while len(sizes)<Maxi:\r\n",
        "                sizes.append('')\r\n",
        "        if len(House_price)<Maxi:\r\n",
        "            while len(House_price)<Maxi:\r\n",
        "                House_price.append('')\r\n",
        "        if len(Bedrooms)<Maxi:\r\n",
        "            while len(Bedrooms)<Maxi:\r\n",
        "                Bedrooms.append('')\r\n",
        "        if len(Stand_size)<Maxi:\r\n",
        "            while len(Stand_size)<Maxi:\r\n",
        "                Stand_size.append('')\r\n",
        "        if len(carport)<Maxi:\r\n",
        "            while len(carport)<Maxi:\r\n",
        "                carport.append(0)\r\n",
        "\r\n",
        "        for i in location:\r\n",
        "          Location.append(i)\r\n",
        "        for i in sizes:\r\n",
        "          Hsize.append(i)\r\n",
        "        for i in Bedrooms:\r\n",
        "          Bed.append(i)\r\n",
        "        for i in Baths:\r\n",
        "          Bths.append(i)\r\n",
        "        for i in House_price:\r\n",
        "          Hprice.append(i)\r\n",
        "        for i in Stand_size:\r\n",
        "          TArea.append(i)\r\n",
        "        for i in carport:\r\n",
        "          Garage.append(i)\r\n",
        "\r\n",
        "\r\n",
        "\r\n",
        "        \r\n"
      ],
      "execution_count": 17,
      "outputs": []
    },
    {
      "cell_type": "code",
      "metadata": {
        "colab": {
          "base_uri": "https://localhost:8080/"
        },
        "id": "2tZCGXDStcGF",
        "outputId": "c238b340-c8a1-4758-bf0c-934a52016c1f"
      },
      "source": [
        "House = pd.Dataframe({'Location':Location , 'House Size':Hsize,'Land Area':TArea\r\n",
        "                           ,'Number of Bedrooms':Bed,'Number of Bathrooms':Bths,'House Price':Hprice,'Address'})"
      ],
      "execution_count": 20,
      "outputs": [
        {
          "output_type": "stream",
          "text": [
            "572\n"
          ],
          "name": "stdout"
        }
      ]
    }
  ]
}